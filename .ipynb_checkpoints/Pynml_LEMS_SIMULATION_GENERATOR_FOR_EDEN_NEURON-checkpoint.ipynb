{
 "cells": [
  {
   "cell_type": "code",
   "execution_count": 16,
   "metadata": {},
   "outputs": [
    {
     "data": {
      "text/plain": [
       "'C:\\\\Users\\\\roche\\\\Thesis code nml'"
      ]
     },
     "execution_count": 16,
     "metadata": {},
     "output_type": "execute_result"
    }
   ],
   "source": [
    "import sys\n",
    "import csv\n",
    "import os\n",
    "import shutil\n",
    "import pandas as pd\n",
    "import numpy as np\n",
    "import decimal\n",
    "from pyneuroml import pynml\n",
    "from pyneuroml.pynml import print_comment_v\n",
    "from pyneuroml.lems import LEMSSimulation\n",
    "\n",
    "import neuroml as nml\n",
    "import neuroml.writers as writers\n",
    "from neuroml.utils import validate_neuroml2\n",
    "import random\n",
    "random.seed(12345)\n",
    "\n",
    "\n",
    "\n",
    "os.getcwd()"
   ]
  },
  {
   "cell_type": "markdown",
   "metadata": {},
   "source": [
    "## Rather complex but official way to generate a network file from a nml morphology\n",
    "\n",
    "It is faster to take an existing net file and then with a short python script change the Cell_id everywhere to create the other networks,\n",
    "this allows you to easily loop over cells and networks and separate them into different folders.\n",
    "\n",
    "Normally, this method generates a file that refers to `<include href=\"C51A_scaled_exp_resample_5.cell.nml\"/>`, meaning cells and networks should share the same folder. This creates a big mess when you want many networks. \n",
    "\n",
    "Therefore the file generated here will refer to `<include href=\"../Cells/C51A_scaled_exp_resample_5.cell.nml\"/>` , thus the cell file should **not** be in the same folder as the network file, rather it should be one directory up and placed in a cells folder.\n",
    "\n",
    "Moreover, the created networks will be stored in a pynmlNetworks folder"
   ]
  },
  {
   "cell_type": "code",
   "execution_count": 17,
   "metadata": {},
   "outputs": [
    {
     "data": {
      "text/plain": [
       "'C:\\\\Users\\\\roche\\\\Thesis code nml\\\\pynmlNetworks\\\\nml_C51A.net.nml'"
      ]
     },
     "execution_count": 17,
     "metadata": {},
     "output_type": "execute_result"
    }
   ],
   "source": [
    "path = os.getcwd()\n",
    "cell_id = 'C51A'\n",
    "Temp = 37\n",
    "net_id = \"network_of_%s\"%cell_id    \n",
    "net_doc = nml.NeuroMLDocument(id='net_'+str(cell_id))\n",
    "\n",
    "#include cell file from ../Cells/\n",
    "cellfile = nml.IncludeType(href='../Cells/'+cell_id+'_scaled_exp_resample_5.cell.nml')\n",
    "net_doc.includes.append(cellfile)\n",
    "\n",
    "#create network\n",
    "net = nml.Network(id=net_id, type=\"networkWithTemperature\", temperature=str(Temp)+\"degC\")\n",
    "net_doc.networks.append(net)\n",
    "\n",
    "#create population\n",
    "pop = nml.Population(id='population_of_%s'%cell_id,component=cell_id,type='populationList',size='1')\n",
    "net.populations.append(pop)\n",
    "\n",
    "loc = nml.Location(x='0',y='0',z='0')\n",
    "inst = nml.Instance(id='0',location=loc)\n",
    "pop.instances.append(inst)\n",
    "\n",
    "#include current clamp \n",
    "t_delay = 50\n",
    "t_duration = 200\n",
    "Amp = '0.15nA'\n",
    "\n",
    "Iclamp = nml.PulseGenerator(id='iclamp0',delay=str(t_delay)+'ms',duration=str(t_duration)+'ms', amplitude=Amp)\n",
    "net_doc.pulse_generators.append(Iclamp)\n",
    "\n",
    "#add Iclamp to cell\n",
    "input_list = nml.InputList(id='Iclamp', component=Iclamp.id, populations=pop.id)\n",
    "input = nml.Input(id='0', target = \"../%s/0/\"%(pop.id)+str(cell_id), segmentId=\"0\", destination=\"synapses\")\n",
    "input_list.input.append(input)\n",
    "net.input_lists.append(input_list)\n",
    "\n",
    "\n",
    "#write the network file\n",
    "net_file_name = 'nml_'+cell_id+'.net.nml'\n",
    "writers.NeuroMLWriter.write(net_doc,net_file_name)\n",
    "shutil.move('C:\\\\Users\\\\roche\\\\Thesis code nml\\\\'+str(net_file_name), 'C:\\\\Users\\\\roche\\\\Thesis code nml\\\\pynmlNetworks')"
   ]
  },
  {
   "cell_type": "code",
   "execution_count": 18,
   "metadata": {},
   "outputs": [
    {
     "name": "stdout",
     "output_type": "stream",
     "text": [
      "Validating ./pynmlNetworks/nml_C51A.net.nml against C:\\Users\\roche\\anaconda3\\lib\\site-packages\\neuroml\\nml/NeuroML_v2.1.xsd\n",
      "It's valid!\n",
      "\n",
      "Cell=C51A\n",
      "network=network_of_C51A\n",
      "population_of_C51A Instance 0 at location: (0, 0, 0)\n",
      "iclamp0 delay=50 duration=200 Amplitude=0.15nA\n"
     ]
    }
   ],
   "source": [
    "validate_neuroml2('./pynmlNetworks/nml_'+cell_id+'.net.nml')\n",
    "\n",
    "\n",
    "print('\\nCell=' +str(cell_id))  \n",
    "print('network=' +str(net_id)) \n",
    "print(pop.id, inst)\n",
    "print(Iclamp.id, 'delay='+str(t_delay), 'duration='+str(t_duration), 'Amplitude='+str(Amp))"
   ]
  },
  {
   "cell_type": "markdown",
   "metadata": {},
   "source": [
    "## LEMS simulation file creation\n",
    "\n",
    "LEMS holy grail: https://github.com/NeuroML/pyNeuroML/blob/87838a5d48db603025f35be667ba1c44439c7ee9/pyneuroml/lems/LEMSSimulation.py#L18"
   ]
  },
  {
   "cell_type": "code",
   "execution_count": 29,
   "metadata": {},
   "outputs": [
    {
     "name": "stdout",
     "output_type": "stream",
     "text": [
      "pyNeuroML >>> Written LEMS Simulation Test to file: LEMS_Test_C51A.xml\n"
     ]
    },
    {
     "data": {
      "text/plain": [
       "'C:\\\\Users\\\\roche\\\\Thesis code nml\\\\LEMSFILES\\\\LEMS_Test_C51A.xml'"
      ]
     },
     "execution_count": 29,
     "metadata": {},
     "output_type": "execute_result"
    }
   ],
   "source": [
    "#redefine net and cell in case you don't run the above code segment\n",
    "sim_id = 'Test'\n",
    "length = 300\n",
    "step = 0.000025\n",
    "\n",
    "recorded_segment = 0\n",
    "recorded_variable = [\"../%s/0/\"%(pop.id)+str(cell_id)+\"/\"+str(recorded_segment)+\"/v\"]\n",
    "\n",
    "\n",
    "LEMS = LEMSSimulation(sim_id, length , step , target = 'net_'+str(cell_id))\n",
    "LEMS.include_neuroml2_file('./pynmlNetworks/nml_'+cell_id+'.net.nml')\n",
    "LEMS.set_report_file('SimStat.txt')                                   # not necessary but out of interest to see EDEN vs NEURON \n",
    "\n",
    "disp_id = 'display_0'\n",
    "LEMS.create_display(disp_id, 'IDK FIRST DISPLAY TEST', '-100', '70' )\n",
    "LEMS.add_line_to_display(disp_id, recorded_segment, recorded_variable)\n",
    "\n",
    "traces = 'voltage traces'\n",
    "LEMS.create_output_file(traces,\"%s.v.dat\"%sim_id)\n",
    "LEMS.add_column_to_output_file(traces, recorded_segment, recorded_variable)\n",
    "\n",
    "filename = 'LEMS_'+str(sim_id)+'_'+str(cell_id)+'.xml'\n",
    "LEMS.save_to_file(file_name = filename )\n",
    "shutil.move('C:\\\\Users\\\\roche\\\\Thesis code nml\\\\'+str(filename), 'C:\\\\Users\\\\roche\\\\Thesis code nml\\\\LEMSFILES')\n"
   ]
  },
  {
   "cell_type": "markdown",
   "metadata": {},
   "source": [
    "## Running LEMS file"
   ]
  },
  {
   "cell_type": "code",
   "execution_count": 35,
   "metadata": {},
   "outputs": [
    {
     "name": "stdout",
     "output_type": "stream",
     "text": [
      "You are running a simulation of C:\\Users\\roche\\Thesis code nml/LEMSFILES/LEMS_Test_C51A.xml and saving the results to C:\\Users\\roche\\Thesis code nml/Simulation result\n",
      "\n",
      "pyNeuroML >>> *** Problem running command: \n",
      "pyNeuroML >>>        Command 'java -Xmx1000M  -jar  \"C:\\Users\\roche\\anaconda3\\lib\\site-packages\\pyneuroml\\lib\\jNeuroML-0.10.0-jar-with-dependencies.jar\"  \"C:\\Users\\roche\\Thesis code nml/LEMSFILES/LEMS_Test_C51A.xml\"  -neuron -run -compile -nogui' returned non-zero exit status 1.\n",
      "pyNeuroML >>>  jNeuroML >>  \n",
      "pyNeuroML >>> Error: execute_command_in_dir returned with output: None\n"
     ]
    },
    {
     "ename": "SystemExit",
     "evalue": "-1",
     "output_type": "error",
     "traceback": [
      "An exception has occurred, use %tb to see the full traceback.\n",
      "\u001b[1;31mSystemExit\u001b[0m\u001b[1;31m:\u001b[0m -1\n"
     ]
    }
   ],
   "source": [
    "LEMS_file = path+f'/LEMSFILES/{filename}'\n",
    "out_dir = path+'/Simulation result'\n",
    "print(f'You are running a simulation of {LEMS_file} and saving the results to {out_dir}\\n')\n",
    "\n",
    "results={}\n",
    "results = pynml.run_lems_with_jneuroml_neuron(\n",
    "        LEMS_file, verbose=False, nogui=True, load_saved_data=True, exec_in_dir=out_dir,\n",
    "        max_memory='1000M')\n"
   ]
  },
  {
   "cell_type": "code",
   "execution_count": null,
   "metadata": {},
   "outputs": [],
   "source": []
  },
  {
   "cell_type": "code",
   "execution_count": null,
   "metadata": {},
   "outputs": [],
   "source": []
  }
 ],
 "metadata": {
  "kernelspec": {
   "display_name": "Python 3",
   "language": "python",
   "name": "python3"
  },
  "language_info": {
   "codemirror_mode": {
    "name": "ipython",
    "version": 3
   },
   "file_extension": ".py",
   "mimetype": "text/x-python",
   "name": "python",
   "nbconvert_exporter": "python",
   "pygments_lexer": "ipython3",
   "version": "3.7.6"
  }
 },
 "nbformat": 4,
 "nbformat_minor": 4
}
