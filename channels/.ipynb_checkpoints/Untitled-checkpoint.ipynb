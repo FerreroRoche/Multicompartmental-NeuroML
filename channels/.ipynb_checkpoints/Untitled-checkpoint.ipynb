{
 "cells": [
  {
   "cell_type": "code",
   "execution_count": 24,
   "metadata": {},
   "outputs": [
    {
     "name": "stdout",
     "output_type": "stream",
     "text": [
      "Threads: 5\n",
      "RAM memory % used: 19.3\n"
     ]
    }
   ],
   "source": [
    "import threading\n",
    "import multiprocessing\n",
    "import psutil\n",
    "import shelve\n",
    "import pickle\n",
    "import sys\n",
    "import h5py\n",
    "import csv\n",
    "import os\n",
    "import gc\n",
    "import shutil\n",
    "import seaborn as sns\n",
    "import pandas as pd\n",
    "import numpy as np\n",
    "import decimal\n",
    "from pyneuroml import pynml\n",
    "from pyneuroml.pynml import print_comment_v\n",
    "from pyneuroml.lems import LEMSSimulation\n",
    "from numpy import *\n",
    "import neuroml as nml\n",
    "import neuroml.writers as writers\n",
    "from neuroml.utils import validate_neuroml2\n",
    "import random\n",
    "random.seed(12345)\n",
    "from neuroml.nml.nml import parse as nmlparse\n",
    "import eden_tools\n",
    "dir(eden_tools)\n",
    "\n",
    "import matplotlib\n",
    "import matplotlib.pyplot as plt\n",
    "from mpl_toolkits.mplot3d import Axes3D\n",
    "os.getcwd()\n",
    "\n",
    "print(f'Threads: {threading.active_count()}')\n",
    "print('RAM memory % used:', psutil.virtual_memory()[2])"
   ]
  },
  {
   "cell_type": "code",
   "execution_count": 25,
   "metadata": {},
   "outputs": [
    {
     "name": "stderr",
     "output_type": "stream",
     "text": [
      "UsageError: Line magic function `%autoreload` not found.\n"
     ]
    }
   ],
   "source": [
    "%autoreload 2\n",
    "%matplotlib inline"
   ]
  },
  {
   "cell_type": "code",
   "execution_count": 41,
   "metadata": {},
   "outputs": [
    {
     "name": "stdout",
     "output_type": "stream",
     "text": [
      "/opt/conda/lib/python3.7/site-packages/airspeed/__init__.py:505: FutureWarning: Possible nested set at position 8\n",
      "  KEYVALSEP = re.compile(r'[ \\t]*:[[ \\t]*(.*)$', re.S)\n",
      "pyNeuroML >>> \n",
      "pyNeuroML >>> Analysing channels from files: ['na_a.channel.nml']\n",
      "pyNeuroML >>> \n",
      "pyNeuroML >>> Reloading data specified in LEMS file: /home/jovyan/work/NeuroML_Examples/Rocher/channels/LEMS_Test_na_a.xml (/home/jovyan/work/NeuroML_Examples/Rocher/channels/LEMS_Test_na_a.xml), base_dir: ., cwd: /home/jovyan/work/NeuroML_Examples/Rocher/channels\n",
      "/opt/conda/lib/python3.7/site-packages/matplotlib/cbook/__init__.py:2349: DeprecationWarning: Using or importing the ABCs from 'collections' instead of from 'collections.abc' is deprecated since Python 3.3,and in 3.9 it will stop working\n",
      "  if isinstance(obj, collections.Iterator):\n",
      "/opt/conda/lib/python3.7/site-packages/matplotlib/cbook/deprecation.py:107: MatplotlibDeprecationWarning: Passing one of 'on', 'true', 'off', 'false' as a boolean is deprecated; use an actual boolean (True/False) instead.\n",
      "  warnings.warn(message, mplDeprecation, stacklevel=1)\n",
      "/opt/conda/lib/python3.7/site-packages/matplotlib/cbook/__init__.py:2366: DeprecationWarning: Using or importing the ABCs from 'collections' instead of from 'collections.abc' is deprecated since Python 3.3,and in 3.9 it will stop working\n",
      "  return list(data) if isinstance(data, collections.MappingView) else data\n",
      "pyNeuroML >>> Written HTML info to: /home/jovyan/work/NeuroML_Examples/Rocher/channels/channel_summary/ChannelInfo.html\n",
      "pyNeuroML >>> Written Markdown info to: /home/jovyan/work/NeuroML_Examples/Rocher/channels/channel_summary/README.md\n",
      "/opt/conda/lib/python3.7/site-packages/airspeed/__init__.py:505: FutureWarning: Possible nested set at position 8\n",
      "  KEYVALSEP = re.compile(r'[ \\t]*:[[ \\t]*(.*)$', re.S)\n",
      "pyNeuroML >>> \n",
      "pyNeuroML >>> Analysing channels from files: ['na_s.channel.nml']\n",
      "pyNeuroML >>> \n",
      "pyNeuroML >>> Reloading data specified in LEMS file: /home/jovyan/work/NeuroML_Examples/Rocher/channels/LEMS_Test_na_s.xml (/home/jovyan/work/NeuroML_Examples/Rocher/channels/LEMS_Test_na_s.xml), base_dir: ., cwd: /home/jovyan/work/NeuroML_Examples/Rocher/channels\n",
      "/opt/conda/lib/python3.7/site-packages/matplotlib/cbook/__init__.py:2349: DeprecationWarning: Using or importing the ABCs from 'collections' instead of from 'collections.abc' is deprecated since Python 3.3,and in 3.9 it will stop working\n",
      "  if isinstance(obj, collections.Iterator):\n",
      "/opt/conda/lib/python3.7/site-packages/matplotlib/cbook/deprecation.py:107: MatplotlibDeprecationWarning: Passing one of 'on', 'true', 'off', 'false' as a boolean is deprecated; use an actual boolean (True/False) instead.\n",
      "  warnings.warn(message, mplDeprecation, stacklevel=1)\n",
      "/opt/conda/lib/python3.7/site-packages/matplotlib/cbook/__init__.py:2366: DeprecationWarning: Using or importing the ABCs from 'collections' instead of from 'collections.abc' is deprecated since Python 3.3,and in 3.9 it will stop working\n",
      "  return list(data) if isinstance(data, collections.MappingView) else data\n",
      "pyNeuroML >>> Written HTML info to: /home/jovyan/work/NeuroML_Examples/Rocher/channels/channel_summary/ChannelInfo.html\n",
      "pyNeuroML >>> Written Markdown info to: /home/jovyan/work/NeuroML_Examples/Rocher/channels/channel_summary/README.md\n",
      "/opt/conda/lib/python3.7/site-packages/airspeed/__init__.py:505: FutureWarning: Possible nested set at position 8\n",
      "  KEYVALSEP = re.compile(r'[ \\t]*:[[ \\t]*(.*)$', re.S)\n",
      "pyNeuroML >>> \n",
      "pyNeuroML >>> Analysing channels from files: ['kdr.channel.nml']\n",
      "pyNeuroML >>> \n",
      "pyNeuroML >>> Reloading data specified in LEMS file: /home/jovyan/work/NeuroML_Examples/Rocher/channels/LEMS_Test_kdr.xml (/home/jovyan/work/NeuroML_Examples/Rocher/channels/LEMS_Test_kdr.xml), base_dir: ., cwd: /home/jovyan/work/NeuroML_Examples/Rocher/channels\n",
      "/opt/conda/lib/python3.7/site-packages/matplotlib/cbook/__init__.py:2349: DeprecationWarning: Using or importing the ABCs from 'collections' instead of from 'collections.abc' is deprecated since Python 3.3,and in 3.9 it will stop working\n",
      "  if isinstance(obj, collections.Iterator):\n",
      "/opt/conda/lib/python3.7/site-packages/matplotlib/cbook/deprecation.py:107: MatplotlibDeprecationWarning: Passing one of 'on', 'true', 'off', 'false' as a boolean is deprecated; use an actual boolean (True/False) instead.\n",
      "  warnings.warn(message, mplDeprecation, stacklevel=1)\n",
      "/opt/conda/lib/python3.7/site-packages/matplotlib/cbook/__init__.py:2366: DeprecationWarning: Using or importing the ABCs from 'collections' instead of from 'collections.abc' is deprecated since Python 3.3,and in 3.9 it will stop working\n",
      "  return list(data) if isinstance(data, collections.MappingView) else data\n",
      "pyNeuroML >>> Written HTML info to: /home/jovyan/work/NeuroML_Examples/Rocher/channels/channel_summary/ChannelInfo.html\n",
      "pyNeuroML >>> Written Markdown info to: /home/jovyan/work/NeuroML_Examples/Rocher/channels/channel_summary/README.md\n",
      "/opt/conda/lib/python3.7/site-packages/airspeed/__init__.py:505: FutureWarning: Possible nested set at position 8\n",
      "  KEYVALSEP = re.compile(r'[ \\t]*:[[ \\t]*(.*)$', re.S)\n",
      "pyNeuroML >>> \n",
      "pyNeuroML >>> Analysing channels from files: ['cal.channel.nml']\n",
      "pyNeuroML >>> \n",
      "pyNeuroML >>> Reloading data specified in LEMS file: /home/jovyan/work/NeuroML_Examples/Rocher/channels/LEMS_Test_cal.xml (/home/jovyan/work/NeuroML_Examples/Rocher/channels/LEMS_Test_cal.xml), base_dir: ., cwd: /home/jovyan/work/NeuroML_Examples/Rocher/channels\n",
      "/opt/conda/lib/python3.7/site-packages/matplotlib/cbook/__init__.py:2349: DeprecationWarning: Using or importing the ABCs from 'collections' instead of from 'collections.abc' is deprecated since Python 3.3,and in 3.9 it will stop working\n",
      "  if isinstance(obj, collections.Iterator):\n",
      "/opt/conda/lib/python3.7/site-packages/matplotlib/cbook/deprecation.py:107: MatplotlibDeprecationWarning: Passing one of 'on', 'true', 'off', 'false' as a boolean is deprecated; use an actual boolean (True/False) instead.\n",
      "  warnings.warn(message, mplDeprecation, stacklevel=1)\n",
      "/opt/conda/lib/python3.7/site-packages/matplotlib/cbook/__init__.py:2366: DeprecationWarning: Using or importing the ABCs from 'collections' instead of from 'collections.abc' is deprecated since Python 3.3,and in 3.9 it will stop working\n",
      "  return list(data) if isinstance(data, collections.MappingView) else data\n",
      "pyNeuroML >>> Written HTML info to: /home/jovyan/work/NeuroML_Examples/Rocher/channels/channel_summary/ChannelInfo.html\n",
      "pyNeuroML >>> Written Markdown info to: /home/jovyan/work/NeuroML_Examples/Rocher/channels/channel_summary/README.md\n",
      "/opt/conda/lib/python3.7/site-packages/airspeed/__init__.py:505: FutureWarning: Possible nested set at position 8\n",
      "  KEYVALSEP = re.compile(r'[ \\t]*:[[ \\t]*(.*)$', re.S)\n",
      "pyNeuroML >>> \n",
      "pyNeuroML >>> Analysing channels from files: ['cah.channel.nml']\n",
      "pyNeuroML >>> \n",
      "pyNeuroML >>> Reloading data specified in LEMS file: /home/jovyan/work/NeuroML_Examples/Rocher/channels/LEMS_Test_cah.xml (/home/jovyan/work/NeuroML_Examples/Rocher/channels/LEMS_Test_cah.xml), base_dir: ., cwd: /home/jovyan/work/NeuroML_Examples/Rocher/channels\n",
      "/opt/conda/lib/python3.7/site-packages/matplotlib/cbook/__init__.py:2349: DeprecationWarning: Using or importing the ABCs from 'collections' instead of from 'collections.abc' is deprecated since Python 3.3,and in 3.9 it will stop working\n",
      "  if isinstance(obj, collections.Iterator):\n",
      "/opt/conda/lib/python3.7/site-packages/matplotlib/cbook/deprecation.py:107: MatplotlibDeprecationWarning: Passing one of 'on', 'true', 'off', 'false' as a boolean is deprecated; use an actual boolean (True/False) instead.\n",
      "  warnings.warn(message, mplDeprecation, stacklevel=1)\n",
      "/opt/conda/lib/python3.7/site-packages/matplotlib/cbook/__init__.py:2366: DeprecationWarning: Using or importing the ABCs from 'collections' instead of from 'collections.abc' is deprecated since Python 3.3,and in 3.9 it will stop working\n",
      "  return list(data) if isinstance(data, collections.MappingView) else data\n",
      "pyNeuroML >>> Written HTML info to: /home/jovyan/work/NeuroML_Examples/Rocher/channels/channel_summary/ChannelInfo.html\n",
      "pyNeuroML >>> Written Markdown info to: /home/jovyan/work/NeuroML_Examples/Rocher/channels/channel_summary/README.md\n",
      "/opt/conda/lib/python3.7/site-packages/airspeed/__init__.py:505: FutureWarning: Possible nested set at position 8\n",
      "  KEYVALSEP = re.compile(r'[ \\t]*:[[ \\t]*(.*)$', re.S)\n"
     ]
    },
    {
     "name": "stdout",
     "output_type": "stream",
     "text": [
      "pyNeuroML >>> \n",
      "pyNeuroML >>> Analysing channels from files: ['h.channel.nml']\n",
      "pyNeuroML >>> \n",
      "pyNeuroML >>> Reloading data specified in LEMS file: /home/jovyan/work/NeuroML_Examples/Rocher/channels/LEMS_Test_h.xml (/home/jovyan/work/NeuroML_Examples/Rocher/channels/LEMS_Test_h.xml), base_dir: ., cwd: /home/jovyan/work/NeuroML_Examples/Rocher/channels\n",
      "/opt/conda/lib/python3.7/site-packages/matplotlib/cbook/__init__.py:2349: DeprecationWarning: Using or importing the ABCs from 'collections' instead of from 'collections.abc' is deprecated since Python 3.3,and in 3.9 it will stop working\n",
      "  if isinstance(obj, collections.Iterator):\n",
      "/opt/conda/lib/python3.7/site-packages/matplotlib/cbook/deprecation.py:107: MatplotlibDeprecationWarning: Passing one of 'on', 'true', 'off', 'false' as a boolean is deprecated; use an actual boolean (True/False) instead.\n",
      "  warnings.warn(message, mplDeprecation, stacklevel=1)\n",
      "/opt/conda/lib/python3.7/site-packages/matplotlib/cbook/__init__.py:2366: DeprecationWarning: Using or importing the ABCs from 'collections' instead of from 'collections.abc' is deprecated since Python 3.3,and in 3.9 it will stop working\n",
      "  return list(data) if isinstance(data, collections.MappingView) else data\n",
      "pyNeuroML >>> Written HTML info to: /home/jovyan/work/NeuroML_Examples/Rocher/channels/channel_summary/ChannelInfo.html\n",
      "pyNeuroML >>> Written Markdown info to: /home/jovyan/work/NeuroML_Examples/Rocher/channels/channel_summary/README.md\n",
      "/opt/conda/lib/python3.7/site-packages/airspeed/__init__.py:505: FutureWarning: Possible nested set at position 8\n",
      "  KEYVALSEP = re.compile(r'[ \\t]*:[[ \\t]*(.*)$', re.S)\n",
      "pyNeuroML >>> \n",
      "pyNeuroML >>> Analysing channels from files: ['leak.channel.nml']\n",
      "pyNeuroML >>> \n",
      "pyNeuroML >>> Skipping leak in leak.channel.nml as it has no channels (probably passive conductance)\n",
      "pyNeuroML >>> Written HTML info to: /home/jovyan/work/NeuroML_Examples/Rocher/channels/channel_summary/ChannelInfo.html\n",
      "pyNeuroML >>> Written Markdown info to: /home/jovyan/work/NeuroML_Examples/Rocher/channels/channel_summary/README.md\n"
     ]
    }
   ],
   "source": [
    "channel_dict = ['na_a','na_s','kdr','k','cal','BK','cah','kca','h','cacc','leak']\n",
    "\n",
    "\n",
    "!pynml-channelanalysis na_a.channel.nml -temperature 34 -caConc 5e-6 -html -md\n",
    "!pynml-channelanalysis na_s.channel.nml -temperature 34 -caConc 5e-6 -html -md\n",
    "!pynml-channelanalysis kdr.channel.nml -temperature 34 -caConc 5e-6 -html -md\n",
    "!pynml-channelanalysis cal.channel.nml -temperature 34 -caConc 5e-6 -html -md\n",
    "!pynml-channelanalysis cah.channel.nml -temperature 34 -caConc 5e-6 -html -md\n",
    "!pynml-channelanalysis h.channel.nml -temperature 34 -caConc 5e-6 -html -md\n",
    "!pynml-channelanalysis leak.channel.nml -temperature 34 -caConc 5e-6 -html -md\n"
   ]
  },
  {
   "cell_type": "code",
   "execution_count": 44,
   "metadata": {},
   "outputs": [
    {
     "name": "stdout",
     "output_type": "stream",
     "text": [
      "/opt/conda/lib/python3.7/site-packages/airspeed/__init__.py:505: FutureWarning: Possible nested set at position 8\n",
      "  KEYVALSEP = re.compile(r'[ \\t]*:[[ \\t]*(.*)$', re.S)\n",
      "pyNeuroML >>> \n",
      "pyNeuroML >>> Analysing channels from files: ['leak.channel.nml']\n",
      "pyNeuroML >>> \n",
      "pyNeuroML >>> Skipping leak in leak.channel.nml as it has no channels (probably passive conductance)\n",
      "pyNeuroML >>> Written HTML info to: /home/jovyan/work/NeuroML_Examples/Rocher/channels/channel_summary/ChannelInfo.html\n",
      "pyNeuroML >>> Written Markdown info to: /home/jovyan/work/NeuroML_Examples/Rocher/channels/channel_summary/README.md\n"
     ]
    }
   ],
   "source": [
    "!pynml-channelanalysis leak.channel.nml -temperature 34 -caConc 5e-6 -html -md"
   ]
  },
  {
   "cell_type": "code",
   "execution_count": 46,
   "metadata": {},
   "outputs": [
    {
     "name": "stdout",
     "output_type": "stream",
     "text": [
      "/home/jovyan/work/NeuroML_Examples/Rocher/channels/channel_summary\n"
     ]
    }
   ],
   "source": [
    "cd channel_summary\n"
   ]
  },
  {
   "cell_type": "code",
   "execution_count": 55,
   "metadata": {},
   "outputs": [
    {
     "data": {
      "text/plain": [
       "<matplotlib.image.AxesImage at 0x7f1df066ea90>"
      ]
     },
     "execution_count": 55,
     "metadata": {},
     "output_type": "execute_result"
    },
    {
     "data": {
      "image/png": "[encoded data removed]",
      "text/plain": [
       "<Figure size 1080x720 with 1 Axes>"
      ]
     },
     "metadata": {
      "needs_background": "light"
     },
     "output_type": "display_data"
    }
   ],
   "source": [
    "import matplotlib.image as mpimg\n",
    "plt.figure(figsize=(15,10))\n",
    "plt.imshow(mpimg.imread('cah.inf.png'))"
   ]
  },
  {
   "cell_type": "code",
   "execution_count": null,
   "metadata": {},
   "outputs": [],
   "source": []
  }
 ],
 "metadata": {
  "kernelspec": {
   "display_name": "Python 3",
   "language": "python",
   "name": "python3"
  },
  "language_info": {
   "codemirror_mode": {
    "name": "ipython",
    "version": 3
   },
   "file_extension": ".py",
   "mimetype": "text/x-python",
   "name": "python",
   "nbconvert_exporter": "python",
   "pygments_lexer": "ipython3",
   "version": "3.7.6"
  }
 },
 "nbformat": 4,
 "nbformat_minor": 4
}
