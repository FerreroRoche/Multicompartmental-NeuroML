{
 "cells": [
  {
   "cell_type": "code",
   "execution_count": 19,
   "metadata": {},
   "outputs": [
    {
     "name": "stdout",
     "output_type": "stream",
     "text": [
      "['C10', 'C11A', 'C15A', 'C16', 'C1A', 'C20A', 'C21A', 'C21B', 'C23', 'C25A', 'C25C', 'C28B', 'C31', 'C32B', 'C45A', 'C46A', 'C46B', 'C48', 'C49A', 'C49B', 'C49C', 'C4A', 'C50A', 'C50B', 'C51A', 'C51B', 'C51C', 'C51D', 'C6A']\n"
     ]
    }
   ],
   "source": [
    "cellnames = open(r'C:\\Users\\roche\\Thesis code nml\\cell_list.txt', 'r')\n",
    "content = cellnames.read()\n",
    "filenames = content.split(\"\\n\")\n",
    "cellnames.close()\n",
    "print(filenames)\n"
   ]
  },
  {
   "cell_type": "code",
   "execution_count": 20,
   "metadata": {},
   "outputs": [],
   "source": [
    "for i in range(0, len(filenames)):\n",
    "    fin = open(f'C:\\\\Users\\\\roche\\\\Thesis code nml\\\\Cells_Q10of3\\\\{filenames[i]}_scaled_exp_resample_5.cell.nml', 'rt')\n",
    "    data  = fin.read()\n",
    " \n",
    "    data = data.replace('<channelDensity condDensity=\"35 mS_per_cm2\" id=\"cacc_dend\" segmentGroup=\"dendrite_group\" ionChannel=\"cacc\" ion=\"cl\" erev=\"-45 mV\"/>', '<channelDensity condDensity=\"0.7 mS_per_cm2\" id=\"cacc_dend\" segmentGroup=\"dendrite_group\" ionChannel=\"cacc\" ion=\"cl\" erev=\"-45 mV\"/>')\n",
    "     \n",
    "    fin.close()\n",
    "    \n",
    "    fin = open(f'C:\\\\Users\\\\roche\\\\Thesis code nml\\\\Cells_Q10of3\\\\{filenames[i]}_scaled_exp_resample_5.cell.nml', \"wt\")\n",
    "    fin.write(data)\n",
    "    fin.close()    "
   ]
  },
  {
   "cell_type": "code",
   "execution_count": null,
   "metadata": {},
   "outputs": [],
   "source": []
  }
 ],
 "metadata": {
  "kernelspec": {
   "display_name": "Python 3",
   "language": "python",
   "name": "python3"
  },
  "language_info": {
   "codemirror_mode": {
    "name": "ipython",
    "version": 3
   },
   "file_extension": ".py",
   "mimetype": "text/x-python",
   "name": "python",
   "nbconvert_exporter": "python",
   "pygments_lexer": "ipython3",
   "version": "3.7.6"
  }
 },
 "nbformat": 4,
 "nbformat_minor": 4
}
