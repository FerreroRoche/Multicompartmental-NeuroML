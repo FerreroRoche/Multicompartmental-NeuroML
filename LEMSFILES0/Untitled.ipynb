{
 "cells": [
  {
   "cell_type": "code",
   "execution_count": 1,
   "metadata": {},
   "outputs": [
    {
     "name": "stdout",
     "output_type": "stream",
     "text": [
      "Threads: 5\n",
      "RAM memory % used: 18.9\n"
     ]
    },
    {
     "name": "stderr",
     "output_type": "stream",
     "text": [
      "/opt/conda/lib/python3.7/site-packages/airspeed/__init__.py:505: FutureWarning: Possible nested set at position 8\n",
      "  KEYVALSEP = re.compile(r'[ \\t]*:[[ \\t]*(.*)$', re.S)\n"
     ]
    }
   ],
   "source": [
    "import threading\n",
    "import multiprocessing\n",
    "import psutil\n",
    "import shelve\n",
    "import pickle\n",
    "import sys\n",
    "import h5py\n",
    "import csv\n",
    "import os\n",
    "import gc\n",
    "import shutil\n",
    "import seaborn as sns\n",
    "import pandas as pd\n",
    "import numpy as np\n",
    "import decimal\n",
    "from pyneuroml import pynml\n",
    "from pyneuroml.pynml import print_comment_v\n",
    "from pyneuroml.lems import LEMSSimulation\n",
    "from numpy import *\n",
    "import neuroml as nml\n",
    "import neuroml.writers as writers\n",
    "from neuroml.utils import validate_neuroml2\n",
    "import random\n",
    "random.seed(12345)\n",
    "from neuroml.nml.nml import parse as nmlparse\n",
    "import eden_tools\n",
    "dir(eden_tools)\n",
    "\n",
    "import matplotlib\n",
    "import matplotlib.pyplot as plt\n",
    "from mpl_toolkits.mplot3d import Axes3D\n",
    "os.getcwd()\n",
    "\n",
    "print(f'Threads: {threading.active_count()}')\n",
    "print('RAM memory % used:', psutil.virtual_memory()[2])"
   ]
  },
  {
   "cell_type": "code",
   "execution_count": 9,
   "metadata": {},
   "outputs": [
    {
     "ename": "SyntaxError",
     "evalue": "invalid syntax (<ipython-input-9-6f4f2fb842db>, line 1)",
     "output_type": "error",
     "traceback": [
      "\u001b[0;36m  File \u001b[0;32m\"<ipython-input-9-6f4f2fb842db>\"\u001b[0;36m, line \u001b[0;32m1\u001b[0m\n\u001b[0;31m    pynml.modchananalysis cal.mod -stepV 5 -temperature 22 -nogui\u001b[0m\n\u001b[0m                            ^\u001b[0m\n\u001b[0;31mSyntaxError\u001b[0m\u001b[0;31m:\u001b[0m invalid syntax\n"
     ]
    }
   ],
   "source": [
    "pynml.modchananalysis cal -stepV 5 -temperature 22 -nogui"
   ]
  },
  {
   "cell_type": "code",
   "execution_count": null,
   "metadata": {},
   "outputs": [],
   "source": []
  }
 ],
 "metadata": {
  "kernelspec": {
   "display_name": "Python 3",
   "language": "python",
   "name": "python3"
  },
  "language_info": {
   "codemirror_mode": {
    "name": "ipython",
    "version": 3
   },
   "file_extension": ".py",
   "mimetype": "text/x-python",
   "name": "python",
   "nbconvert_exporter": "python",
   "pygments_lexer": "ipython3",
   "version": "3.7.6"
  }
 },
 "nbformat": 4,
 "nbformat_minor": 4
}
