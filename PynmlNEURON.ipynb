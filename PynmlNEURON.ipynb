{
 "cells": [
  {
   "cell_type": "code",
   "execution_count": 47,
   "metadata": {},
   "outputs": [
    {
     "data": {
      "text/plain": [
       "'C:\\\\Users\\\\roche\\\\Thesis code nml'"
      ]
     },
     "execution_count": 47,
     "metadata": {},
     "output_type": "execute_result"
    }
   ],
   "source": [
    "import sys\n",
    "import csv\n",
    "import os\n",
    "import shutil\n",
    "import pandas as pd\n",
    "import numpy as np\n",
    "import decimal\n",
    "from pyneuroml import pynml\n",
    "from pyneuroml.pynml import print_comment_v\n",
    "from pyneuroml.lems import LEMSSimulation\n",
    "import neuroml as nml\n",
    "import neuroml.writers as writers\n",
    "from neuroml.utils import validate_neuroml2\n",
    "import random\n",
    "random.seed(12345)\n",
    "\n",
    "\n",
    "\n",
    "os.getcwd()"
   ]
  },
  {
   "cell_type": "markdown",
   "metadata": {},
   "source": [
    "## Rather complex but official way to generate a network file from a nml morphology\n",
    "\n",
    "It is faster to take an existing net file and then with a short python script change the Cell_id everywhere to create the other networks,\n",
    "this allows you to easily loop over cells and networks and separate them into different folders.\n",
    "\n",
    "Normally, this method generates a file that refers to `<include href=\"C51A_scaled_exp_resample_5.cell.nml\"/>`, meaning cells and networks should share the same folder. This creates a big mess when you want many networks. \n",
    "\n",
    "Therefore the file generated here will refer to `<include href=\"../Cells/C51A_scaled_exp_resample_5.cell.nml\"/>` , thus the cell file should **not** be in the same folder as the network file, rather it should be one directory up and placed in a cells folder.\n"
   ]
  },
  {
   "cell_type": "code",
   "execution_count": 49,
   "metadata": {},
   "outputs": [
    {
     "data": {
      "text/plain": [
       "'C:\\\\Users\\\\roche\\\\Thesis code nml\\\\pynmlNetworks\\\\nml_C51A.net.nml'"
      ]
     },
     "execution_count": 49,
     "metadata": {},
     "output_type": "execute_result"
    }
   ],
   "source": [
    "cell_id = 'C51A'\n",
    "Temp = 37\n",
    "net_id = \"network_of_%s\"%cell_id    \n",
    "net_doc = nml.NeuroMLDocument(id='net_'+str(cell_id))\n",
    "\n",
    "#include cell file from ../Cells/\n",
    "cellfile = nml.IncludeType(href='../Cells/'+cell_id+'_scaled_exp_resample_5.cell.nml')\n",
    "net_doc.includes.append(cellfile)\n",
    "\n",
    "#create network\n",
    "net = nml.Network(id=net_id, type=\"networkWithTemperature\", temperature=str(Temp)+\"degC\")\n",
    "net_doc.networks.append(net)\n",
    "\n",
    "#create population\n",
    "pop = nml.Population(id='population_of_%s'%cell_id,component=cell_id,type='populationList',size='1')\n",
    "net.populations.append(pop)\n",
    "\n",
    "loc = nml.Location(x='0',y='0',z='0')\n",
    "inst = nml.Instance(id='0',location=loc)\n",
    "pop.instances.append(inst)\n",
    "\n",
    "#include current clamp \n",
    "t_delay = 50\n",
    "t_duration = 200\n",
    "Amp = \"0.15nA\"\n",
    "\n",
    "Iclamp = nml.PulseGenerator(id='iclamp0',delay=str(t_delay)+'ms',duration=str(t_duration), amplitude=Amp)\n",
    "net_doc.pulse_generators.append(Iclamp)\n",
    "\n",
    "#add Iclamp to cell\n",
    "input_list = nml.InputList(id='Iclamp', component=Iclamp.id, population=pop.id)\n",
    "input = nml.Input(id='0', target = \"../%s/0/\"%(pop.id)+str(cell_id), segmentId=\"0\", destination=\"synapses\")\n",
    "input_list.input.append(input)\n",
    "net.input_lists.append(input_list)\n",
    "\n",
    "\n",
    "#write the network file\n",
    "net_file_name = 'nml_'+cell_id+'.net.nml'\n",
    "writers.NeuroMLWriter.write(net_doc,net_file_name)\n",
    "shutil.move('C:\\\\Users\\\\roche\\\\Thesis code nml\\\\'+str(net_file_name), 'C:\\\\Users\\\\roche\\\\Thesis code nml\\\\pynmlNetworks')"
   ]
  },
  {
   "cell_type": "code",
   "execution_count": 40,
   "metadata": {},
   "outputs": [
    {
     "name": "stdout",
     "output_type": "stream",
     "text": [
      "population_of_C51A\n"
     ]
    }
   ],
   "source": []
  },
  {
   "cell_type": "code",
   "execution_count": null,
   "metadata": {},
   "outputs": [],
   "source": []
  }
 ],
 "metadata": {
  "kernelspec": {
   "display_name": "Python 3",
   "language": "python",
   "name": "python3"
  },
  "language_info": {
   "codemirror_mode": {
    "name": "ipython",
    "version": 3
   },
   "file_extension": ".py",
   "mimetype": "text/x-python",
   "name": "python",
   "nbconvert_exporter": "python",
   "pygments_lexer": "ipython3",
   "version": "3.7.6"
  }
 },
 "nbformat": 4,
 "nbformat_minor": 4
}
