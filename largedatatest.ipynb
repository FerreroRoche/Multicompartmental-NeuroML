{
 "cells": [
  {
   "cell_type": "code",
   "execution_count": 1,
   "metadata": {},
   "outputs": [
    {
     "name": "stdout",
     "output_type": "stream",
     "text": [
      "Threads: 5\n"
     ]
    },
    {
     "name": "stderr",
     "output_type": "stream",
     "text": [
      "/opt/conda/lib/python3.7/site-packages/airspeed/__init__.py:505: FutureWarning: Possible nested set at position 8\n",
      "  KEYVALSEP = re.compile(r'[ \\t]*:[[ \\t]*(.*)$', re.S)\n"
     ]
    }
   ],
   "source": [
    "import multiprocessing\n",
    "import threading\n",
    "import psutil\n",
    "import shelve\n",
    "import pickle\n",
    "import sys\n",
    "import h5py\n",
    "import csv\n",
    "import os\n",
    "import shutil\n",
    "import pandas as pd\n",
    "import numpy as np\n",
    "import decimal\n",
    "from pyneuroml import pynml\n",
    "from pyneuroml.pynml import print_comment_v\n",
    "from pyneuroml.lems import LEMSSimulation\n",
    "\n",
    "import neuroml as nml\n",
    "import neuroml.writers as writers\n",
    "from neuroml.utils import validate_neuroml2\n",
    "import random\n",
    "random.seed(12345)\n",
    "from neuroml.nml.nml import parse as nmlparse\n",
    "import eden_tools\n",
    "dir(eden_tools)\n",
    "\n",
    "import matplotlib\n",
    "import matplotlib.pyplot as plt\n",
    "from mpl_toolkits.mplot3d import Axes3D\n",
    "os.getcwd()\n",
    "\n",
    "print(f'Threads: {threading.active_count()}')\n"
   ]
  },
  {
   "cell_type": "code",
   "execution_count": null,
   "metadata": {},
   "outputs": [],
   "source": []
  },
  {
   "cell_type": "code",
   "execution_count": 69,
   "metadata": {},
   "outputs": [],
   "source": [
    "def double(a,b):\n",
    "    return a*b * 2\n",
    "\n",
    "def driver_func():\n",
    "    PROCESSES = 4\n",
    "    with multiprocessing.Pool(PROCESSES) as pool:\n",
    "        params = [(1,1 ), (2,2 ), (3,3), (4,4 )]\n",
    "        #results = [pool.apply_async(double, p) for p in params]\n",
    "       \n",
    "        for r in results:\n",
    "            print('\\t', r.get())\n",
    "    pool.close()\n",
    "    pool.join()"
   ]
  },
  {
   "cell_type": "code",
   "execution_count": 70,
   "metadata": {},
   "outputs": [
    {
     "name": "stdout",
     "output_type": "stream",
     "text": [
      "\t 2\n",
      "\t 8\n",
      "\t 18\n",
      "\t 32\n"
     ]
    }
   ],
   "source": [
    "driver_func()"
   ]
  },
  {
   "cell_type": "code",
   "execution_count": 4,
   "metadata": {},
   "outputs": [
    {
     "name": "stdout",
     "output_type": "stream",
     "text": [
      "[1, 6, 24]\n",
      "end\n"
     ]
    }
   ],
   "source": [
    "from multiprocessing import Pool\n",
    "\n",
    "\n",
    "def f(x,y):\n",
    "    return x*y\n",
    "\n",
    "\n",
    "def main():\n",
    "    pool = Pool(processes=3)  # set the processes max number 3\n",
    "    #result = pool.map(f, range(10))\n",
    "    result = pool.starmap(f, [(1, 1), (2, 3), (3, 8)])\n",
    "    pool.close()\n",
    "    pool.join()\n",
    "    print(result)\n",
    "    print('end')\n",
    "\n",
    "\n",
    "if __name__ == \"__main__\":\n",
    "    main()"
   ]
  },
  {
   "cell_type": "code",
   "execution_count": 6,
   "metadata": {},
   "outputs": [
    {
     "ename": "NameError",
     "evalue": "name 'pool' is not defined",
     "output_type": "error",
     "traceback": [
      "\u001b[0;31m---------------------------------------------------------------------------\u001b[0m",
      "\u001b[0;31mNameError\u001b[0m                                 Traceback (most recent call last)",
      "\u001b[0;32m<ipython-input-6-42fdc049f312>\u001b[0m in \u001b[0;36m<module>\u001b[0;34m\u001b[0m\n\u001b[0;32m----> 1\u001b[0;31m \u001b[0mpool\u001b[0m\u001b[0;34m.\u001b[0m\u001b[0mterminate\u001b[0m\u001b[0;34m\u001b[0m\u001b[0;34m\u001b[0m\u001b[0m\n\u001b[0m",
      "\u001b[0;31mNameError\u001b[0m: name 'pool' is not defined"
     ]
    }
   ],
   "source": []
  },
  {
   "cell_type": "code",
   "execution_count": null,
   "metadata": {},
   "outputs": [],
   "source": []
  }
 ],
 "metadata": {
  "kernelspec": {
   "display_name": "Python 3",
   "language": "python",
   "name": "python3"
  },
  "language_info": {
   "codemirror_mode": {
    "name": "ipython",
    "version": 3
   },
   "file_extension": ".py",
   "mimetype": "text/x-python",
   "name": "python",
   "nbconvert_exporter": "python",
   "pygments_lexer": "ipython3",
   "version": "3.7.6"
  }
 },
 "nbformat": 4,
 "nbformat_minor": 4
}
