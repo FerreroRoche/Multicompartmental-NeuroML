{
 "cells": [
  {
   "cell_type": "code",
   "execution_count": 1,
   "metadata": {},
   "outputs": [
    {
     "name": "stdout",
     "output_type": "stream",
     "text": [
      "['C11A', 'C15A', 'C16', 'C1A', 'C20A', 'C21A', 'C21B', 'C23', 'C25A', 'C25C', 'C28B', 'C31', 'C32B', 'C45A', 'C46A', 'C46B', 'C48', 'C49A', 'C49B', 'C49C', 'C4A', 'C50A', 'C50B', 'C51A', 'C51B', 'C51C', 'C51D', 'C6A']\n"
     ]
    }
   ],
   "source": [
    "cellnames = open(r'../cell_list.txt', 'r')\n",
    "content = cellnames.read()\n",
    "filenames = content.split(\"\\n\")\n",
    "cellnames.close()\n",
    "print(filenames)"
   ]
  },
  {
   "cell_type": "code",
   "execution_count": 7,
   "metadata": {},
   "outputs": [],
   "source": [
    "for i in range(0, len(filenames)):\n",
    "    fin = open(f'{filenames[i]}_scaled_exp_resample_5.cell.nml', 'rt')\n",
    "    data  = fin.read()\n",
    " \n",
    "    data = data.replace('<resistivity value=\".1 ohm_cm\" segmentGroup=\"soma_group\"/>', '<resistivity value=\"100 ohm_cm\" segmentGroup=\"soma_group\"/>')\n",
    "    data = data.replace('<resistivity value=\".1 ohm_cm\" segmentGroup=\"dendrite_group\"/>', '<resistivity value=\"100 ohm_cm\" segmentGroup=\"dendrite_group\"/>') \n",
    "    data = data.replace('<resistivity value=\".1 ohm_cm\" segmentGroup=\"axon_group\"/>', '<resistivity value=\"100 ohm_cm\" segmentGroup=\"axon_group\"/>')\n",
    "    data = data.replace('<channelDensity condDensity=\"50 mS_per_cm2\" id=\"cal_soma\"', '<channelDensity condDensity=\"20 mS_per_cm2\" id=\"cal_soma\"')\n",
    "    data = data.replace('<channelDensity condDensity=\"50 mS_per_cm2\" id=\"cah_dend\"', '<channelDensity condDensity=\"10 mS_per_cm2\" id=\"cah_dend\"')\n",
    "    #data = data.replace('id=\"axon_group\">', 'id=\"dendrite_group\">')\n",
    "    data = data.replace('<segmentGroup id=\"dendrite_group\" neuroLexId=\"GO:0030425\">    <!--Dendrite group-->', '<segmentGroup id=\"axon_group\" neuroLexId=\"GO:0030425\">    <!--Dendrite group-->')        \n",
    "    data = data.replace('<segmentGroup id=\"axon_group\" neuroLexId=\"GO:0030424\">    <!--Axon group-->', '<segmentGroup id=\"dendrite_group\" neuroLexId=\"GO:0030424\">    <!--Axon group-->')\n",
    "   # data = data.replace('id=\"dendrite_group\">', 'id=\"axon_group\">')\n",
    "    fin.close()\n",
    "\n",
    "    fin = open(f'{filenames[i]}_scaled_exp_resample_5.cell.nml', \"wt\")\n",
    "    fin.write(data)\n",
    "    fin.close()    "
   ]
  },
  {
   "cell_type": "code",
   "execution_count": null,
   "metadata": {},
   "outputs": [],
   "source": []
  }
 ],
 "metadata": {
  "kernelspec": {
   "display_name": "Python 3",
   "language": "python",
   "name": "python3"
  },
  "language_info": {
   "codemirror_mode": {
    "name": "ipython",
    "version": 3
   },
   "file_extension": ".py",
   "mimetype": "text/x-python",
   "name": "python",
   "nbconvert_exporter": "python",
   "pygments_lexer": "ipython3",
   "version": "3.7.6"
  }
 },
 "nbformat": 4,
 "nbformat_minor": 4
}
