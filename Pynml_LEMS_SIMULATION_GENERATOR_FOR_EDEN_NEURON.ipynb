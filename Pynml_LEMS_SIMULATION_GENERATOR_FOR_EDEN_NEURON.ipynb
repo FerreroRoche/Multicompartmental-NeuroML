{
 "cells": [
  {
   "cell_type": "code",
   "execution_count": 2,
   "metadata": {},
   "outputs": [
    {
     "name": "stderr",
     "output_type": "stream",
     "text": [
      "C:\\Users\\roche\\anaconda3\\lib\\site-packages\\airspeed\\__init__.py:505: FutureWarning: Possible nested set at position 8\n",
      "  KEYVALSEP = re.compile(r'[ \\t]*:[[ \\t]*(.*)$', re.S)\n"
     ]
    },
    {
     "data": {
      "text/plain": [
       "'C:\\\\Users\\\\roche\\\\Thesis_code_nml'"
      ]
     },
     "execution_count": 2,
     "metadata": {},
     "output_type": "execute_result"
    }
   ],
   "source": [
    "import sys\n",
    "import csv\n",
    "import os\n",
    "import shutil\n",
    "import pandas as pd\n",
    "import numpy as np\n",
    "import decimal\n",
    "from pyneuroml import pynml\n",
    "from pyneuroml.pynml import print_comment_v\n",
    "from pyneuroml.lems import LEMSSimulation\n",
    "\n",
    "import neuroml as nml\n",
    "import neuroml.writers as writers\n",
    "from neuroml.utils import validate_neuroml2\n",
    "import random\n",
    "random.seed(12345)\n",
    "\n",
    "\n",
    "\n",
    "os.getcwd()"
   ]
  },
  {
   "cell_type": "markdown",
   "metadata": {},
   "source": [
    "## Rather complex but official way to generate a network file from a nml morphology\n",
    "\n",
    "It is faster to take an existing net file and then with a short python script change the Cell_id everywhere to create the other networks,\n",
    "this allows you to easily loop over cells and networks and separate them into different folders.\n",
    "\n",
    "Normally, this method generates a file that refers to `<include href=\"C51A_scaled_exp_resample_5.cell.nml\"/>`, meaning cells and networks should share the same folder. This creates a big mess when you want many networks. \n",
    "\n",
    "Therefore the file generated here will refer to `<include href=\"../Cells/C51A_scaled_exp_resample_5.cell.nml\"/>` , thus the cell file should **not** be in the same folder as the network file, rather it should be one directory up and placed in a cells folder.\n",
    "\n",
    "Moreover, the created networks will be stored in a pynmlNetworks folder"
   ]
  },
  {
   "cell_type": "code",
   "execution_count": 3,
   "metadata": {},
   "outputs": [
    {
     "ename": "Error",
     "evalue": "Destination path 'C:\\Users\\roche\\Thesis_code_nml\\pynmlNetworks\\nml_C51A.net.nml' already exists",
     "output_type": "error",
     "traceback": [
      "\u001b[1;31m---------------------------------------------------------------------------\u001b[0m",
      "\u001b[1;31mError\u001b[0m                                     Traceback (most recent call last)",
      "\u001b[1;32m<ipython-input-3-e28d45d8895e>\u001b[0m in \u001b[0;36m<module>\u001b[1;34m\u001b[0m\n\u001b[0;32m     39\u001b[0m \u001b[0mnet_file_name\u001b[0m \u001b[1;33m=\u001b[0m \u001b[1;34m'nml_'\u001b[0m\u001b[1;33m+\u001b[0m\u001b[0mcell_id\u001b[0m\u001b[1;33m+\u001b[0m\u001b[1;34m'.net.nml'\u001b[0m\u001b[1;33m\u001b[0m\u001b[1;33m\u001b[0m\u001b[0m\n\u001b[0;32m     40\u001b[0m \u001b[0mwriters\u001b[0m\u001b[1;33m.\u001b[0m\u001b[0mNeuroMLWriter\u001b[0m\u001b[1;33m.\u001b[0m\u001b[0mwrite\u001b[0m\u001b[1;33m(\u001b[0m\u001b[0mnet_doc\u001b[0m\u001b[1;33m,\u001b[0m\u001b[0mnet_file_name\u001b[0m\u001b[1;33m)\u001b[0m\u001b[1;33m\u001b[0m\u001b[1;33m\u001b[0m\u001b[0m\n\u001b[1;32m---> 41\u001b[1;33m \u001b[0mshutil\u001b[0m\u001b[1;33m.\u001b[0m\u001b[0mmove\u001b[0m\u001b[1;33m(\u001b[0m\u001b[1;34m'C:\\\\Users\\\\roche\\\\Thesis_code_nml\\\\'\u001b[0m\u001b[1;33m+\u001b[0m\u001b[0mstr\u001b[0m\u001b[1;33m(\u001b[0m\u001b[0mnet_file_name\u001b[0m\u001b[1;33m)\u001b[0m\u001b[1;33m,\u001b[0m \u001b[1;34m'C:\\\\Users\\\\roche\\\\Thesis_code_nml\\\\pynmlNetworks'\u001b[0m\u001b[1;33m)\u001b[0m\u001b[1;33m\u001b[0m\u001b[1;33m\u001b[0m\u001b[0m\n\u001b[0m",
      "\u001b[1;32m~\\anaconda3\\lib\\shutil.py\u001b[0m in \u001b[0;36mmove\u001b[1;34m(src, dst, copy_function)\u001b[0m\n\u001b[0;32m    562\u001b[0m         \u001b[0mreal_dst\u001b[0m \u001b[1;33m=\u001b[0m \u001b[0mos\u001b[0m\u001b[1;33m.\u001b[0m\u001b[0mpath\u001b[0m\u001b[1;33m.\u001b[0m\u001b[0mjoin\u001b[0m\u001b[1;33m(\u001b[0m\u001b[0mdst\u001b[0m\u001b[1;33m,\u001b[0m \u001b[0m_basename\u001b[0m\u001b[1;33m(\u001b[0m\u001b[0msrc\u001b[0m\u001b[1;33m)\u001b[0m\u001b[1;33m)\u001b[0m\u001b[1;33m\u001b[0m\u001b[1;33m\u001b[0m\u001b[0m\n\u001b[0;32m    563\u001b[0m         \u001b[1;32mif\u001b[0m \u001b[0mos\u001b[0m\u001b[1;33m.\u001b[0m\u001b[0mpath\u001b[0m\u001b[1;33m.\u001b[0m\u001b[0mexists\u001b[0m\u001b[1;33m(\u001b[0m\u001b[0mreal_dst\u001b[0m\u001b[1;33m)\u001b[0m\u001b[1;33m:\u001b[0m\u001b[1;33m\u001b[0m\u001b[1;33m\u001b[0m\u001b[0m\n\u001b[1;32m--> 564\u001b[1;33m             \u001b[1;32mraise\u001b[0m \u001b[0mError\u001b[0m\u001b[1;33m(\u001b[0m\u001b[1;34m\"Destination path '%s' already exists\"\u001b[0m \u001b[1;33m%\u001b[0m \u001b[0mreal_dst\u001b[0m\u001b[1;33m)\u001b[0m\u001b[1;33m\u001b[0m\u001b[1;33m\u001b[0m\u001b[0m\n\u001b[0m\u001b[0;32m    565\u001b[0m     \u001b[1;32mtry\u001b[0m\u001b[1;33m:\u001b[0m\u001b[1;33m\u001b[0m\u001b[1;33m\u001b[0m\u001b[0m\n\u001b[0;32m    566\u001b[0m         \u001b[0mos\u001b[0m\u001b[1;33m.\u001b[0m\u001b[0mrename\u001b[0m\u001b[1;33m(\u001b[0m\u001b[0msrc\u001b[0m\u001b[1;33m,\u001b[0m \u001b[0mreal_dst\u001b[0m\u001b[1;33m)\u001b[0m\u001b[1;33m\u001b[0m\u001b[1;33m\u001b[0m\u001b[0m\n",
      "\u001b[1;31mError\u001b[0m: Destination path 'C:\\Users\\roche\\Thesis_code_nml\\pynmlNetworks\\nml_C51A.net.nml' already exists"
     ]
    }
   ],
   "source": [
    "path = os.getcwd()\n",
    "cell_id = 'C51A'\n",
    "Temp = 37\n",
    "net_id = \"network_of_%s\"%cell_id    \n",
    "net_doc = nml.NeuroMLDocument(id='net_'+str(cell_id))\n",
    "\n",
    "#include cell file from ../Cells/\n",
    "cellfile = nml.IncludeType(href='../Cells/'+cell_id+'_scaled_exp_resample_5.cell.nml')\n",
    "net_doc.includes.append(cellfile)\n",
    "\n",
    "#create network\n",
    "net = nml.Network(id=net_id, type=\"networkWithTemperature\", temperature=str(Temp)+\"degC\")\n",
    "net_doc.networks.append(net)\n",
    "\n",
    "#create population\n",
    "pop = nml.Population(id='population_of_%s'%cell_id,component=cell_id,type='populationList',size='1')\n",
    "net.populations.append(pop)\n",
    "\n",
    "loc = nml.Location(x='0',y='0',z='0')\n",
    "inst = nml.Instance(id='0',location=loc)\n",
    "pop.instances.append(inst)\n",
    "\n",
    "#include current clamp \n",
    "t_delay = 50\n",
    "t_duration = 200\n",
    "Amp = '0.15nA'\n",
    "\n",
    "Iclamp = nml.PulseGenerator(id='iclamp0',delay=str(t_delay)+'ms',duration=str(t_duration)+'ms', amplitude=Amp)\n",
    "net_doc.pulse_generators.append(Iclamp)\n",
    "\n",
    "#add Iclamp to cell\n",
    "input_list = nml.InputList(id='Iclamp', component=Iclamp.id, populations=pop.id)\n",
    "input = nml.Input(id='0', target = \"../%s/0/\"%(pop.id)+str(cell_id), segmentId=\"0\", destination=\"synapses\")\n",
    "input_list.input.append(input)\n",
    "net.input_lists.append(input_list)\n",
    "\n",
    "\n",
    "#write the network file\n",
    "net_file_name = 'nml_'+cell_id+'.net.nml'\n",
    "writers.NeuroMLWriter.write(net_doc,net_file_name)\n",
    "shutil.move('C:\\\\Users\\\\roche\\\\Thesis_code_nml\\\\'+str(net_file_name), 'C:\\\\Users\\\\roche\\\\Thesis_code_nml\\\\pynmlNetworks')"
   ]
  },
  {
   "cell_type": "code",
   "execution_count": 4,
   "metadata": {},
   "outputs": [
    {
     "name": "stdout",
     "output_type": "stream",
     "text": [
      "Validating ./pynmlNetworks/nml_C51A.net.nml against C:\\Users\\roche\\anaconda3\\lib\\site-packages\\neuroml\\nml/NeuroML_v2.1.xsd\n",
      "It's valid!\n",
      "\n",
      "Cell=C51A\n",
      "network=network_of_C51A\n",
      "population_of_C51A Instance 0 at location: (0, 0, 0)\n",
      "iclamp0 delay=50 duration=200 Amplitude=0.15nA\n"
     ]
    }
   ],
   "source": [
    "validate_neuroml2('./pynmlNetworks/nml_'+cell_id+'.net.nml')\n",
    "\n",
    "\n",
    "print('\\nCell=' +str(cell_id))  \n",
    "print('network=' +str(net_id)) \n",
    "print(pop.id, inst)\n",
    "print(Iclamp.id, 'delay='+str(t_delay), 'duration='+str(t_duration), 'Amplitude='+str(Amp))"
   ]
  },
  {
   "cell_type": "markdown",
   "metadata": {},
   "source": [
    "## LEMS simulation file creation\n",
    "\n",
    "LEMS holy grail: https://github.com/NeuroML/pyNeuroML/blob/87838a5d48db603025f35be667ba1c44439c7ee9/pyneuroml/lems/LEMSSimulation.py#L18"
   ]
  },
  {
   "cell_type": "code",
   "execution_count": 5,
   "metadata": {},
   "outputs": [
    {
     "name": "stdout",
     "output_type": "stream",
     "text": [
      "pyNeuroML >>> Written LEMS Simulation Test to file: LEMS_Test_C51A.xml\n"
     ]
    },
    {
     "ename": "Error",
     "evalue": "Destination path 'C:\\Users\\roche\\Thesis_code_nml\\LEMSFILES\\LEMS_Test_C51A.xml' already exists",
     "output_type": "error",
     "traceback": [
      "\u001b[1;31m---------------------------------------------------------------------------\u001b[0m",
      "\u001b[1;31mError\u001b[0m                                     Traceback (most recent call last)",
      "\u001b[1;32m<ipython-input-5-c13dc6215f76>\u001b[0m in \u001b[0;36m<module>\u001b[1;34m\u001b[0m\n\u001b[0;32m     22\u001b[0m \u001b[0mfilename\u001b[0m \u001b[1;33m=\u001b[0m \u001b[1;34m'LEMS_'\u001b[0m\u001b[1;33m+\u001b[0m\u001b[0mstr\u001b[0m\u001b[1;33m(\u001b[0m\u001b[0msim_id\u001b[0m\u001b[1;33m)\u001b[0m\u001b[1;33m+\u001b[0m\u001b[1;34m'_'\u001b[0m\u001b[1;33m+\u001b[0m\u001b[0mstr\u001b[0m\u001b[1;33m(\u001b[0m\u001b[0mcell_id\u001b[0m\u001b[1;33m)\u001b[0m\u001b[1;33m+\u001b[0m\u001b[1;34m'.xml'\u001b[0m\u001b[1;33m\u001b[0m\u001b[1;33m\u001b[0m\u001b[0m\n\u001b[0;32m     23\u001b[0m \u001b[0mLEMS\u001b[0m\u001b[1;33m.\u001b[0m\u001b[0msave_to_file\u001b[0m\u001b[1;33m(\u001b[0m\u001b[0mfile_name\u001b[0m \u001b[1;33m=\u001b[0m \u001b[0mfilename\u001b[0m \u001b[1;33m)\u001b[0m\u001b[1;33m\u001b[0m\u001b[1;33m\u001b[0m\u001b[0m\n\u001b[1;32m---> 24\u001b[1;33m \u001b[0mshutil\u001b[0m\u001b[1;33m.\u001b[0m\u001b[0mmove\u001b[0m\u001b[1;33m(\u001b[0m\u001b[1;34m'C:\\\\Users\\\\roche\\\\Thesis_code_nml\\\\'\u001b[0m\u001b[1;33m+\u001b[0m\u001b[0mstr\u001b[0m\u001b[1;33m(\u001b[0m\u001b[0mfilename\u001b[0m\u001b[1;33m)\u001b[0m\u001b[1;33m,\u001b[0m \u001b[1;34m'C:\\\\Users\\\\roche\\\\Thesis_code_nml\\\\LEMSFILES'\u001b[0m\u001b[1;33m)\u001b[0m\u001b[1;33m\u001b[0m\u001b[1;33m\u001b[0m\u001b[0m\n\u001b[0m",
      "\u001b[1;32m~\\anaconda3\\lib\\shutil.py\u001b[0m in \u001b[0;36mmove\u001b[1;34m(src, dst, copy_function)\u001b[0m\n\u001b[0;32m    562\u001b[0m         \u001b[0mreal_dst\u001b[0m \u001b[1;33m=\u001b[0m \u001b[0mos\u001b[0m\u001b[1;33m.\u001b[0m\u001b[0mpath\u001b[0m\u001b[1;33m.\u001b[0m\u001b[0mjoin\u001b[0m\u001b[1;33m(\u001b[0m\u001b[0mdst\u001b[0m\u001b[1;33m,\u001b[0m \u001b[0m_basename\u001b[0m\u001b[1;33m(\u001b[0m\u001b[0msrc\u001b[0m\u001b[1;33m)\u001b[0m\u001b[1;33m)\u001b[0m\u001b[1;33m\u001b[0m\u001b[1;33m\u001b[0m\u001b[0m\n\u001b[0;32m    563\u001b[0m         \u001b[1;32mif\u001b[0m \u001b[0mos\u001b[0m\u001b[1;33m.\u001b[0m\u001b[0mpath\u001b[0m\u001b[1;33m.\u001b[0m\u001b[0mexists\u001b[0m\u001b[1;33m(\u001b[0m\u001b[0mreal_dst\u001b[0m\u001b[1;33m)\u001b[0m\u001b[1;33m:\u001b[0m\u001b[1;33m\u001b[0m\u001b[1;33m\u001b[0m\u001b[0m\n\u001b[1;32m--> 564\u001b[1;33m             \u001b[1;32mraise\u001b[0m \u001b[0mError\u001b[0m\u001b[1;33m(\u001b[0m\u001b[1;34m\"Destination path '%s' already exists\"\u001b[0m \u001b[1;33m%\u001b[0m \u001b[0mreal_dst\u001b[0m\u001b[1;33m)\u001b[0m\u001b[1;33m\u001b[0m\u001b[1;33m\u001b[0m\u001b[0m\n\u001b[0m\u001b[0;32m    565\u001b[0m     \u001b[1;32mtry\u001b[0m\u001b[1;33m:\u001b[0m\u001b[1;33m\u001b[0m\u001b[1;33m\u001b[0m\u001b[0m\n\u001b[0;32m    566\u001b[0m         \u001b[0mos\u001b[0m\u001b[1;33m.\u001b[0m\u001b[0mrename\u001b[0m\u001b[1;33m(\u001b[0m\u001b[0msrc\u001b[0m\u001b[1;33m,\u001b[0m \u001b[0mreal_dst\u001b[0m\u001b[1;33m)\u001b[0m\u001b[1;33m\u001b[0m\u001b[1;33m\u001b[0m\u001b[0m\n",
      "\u001b[1;31mError\u001b[0m: Destination path 'C:\\Users\\roche\\Thesis_code_nml\\LEMSFILES\\LEMS_Test_C51A.xml' already exists"
     ]
    }
   ],
   "source": [
    "#redefine net and cell in case you don't run the above code segment\n",
    "sim_id = 'Test'\n",
    "length = 300\n",
    "step = 0.000025\n",
    "\n",
    "recorded_segment = 0\n",
    "recorded_variable = \"%s/0/\"%(pop.id)+str(cell_id)+\"/\"+str(recorded_segment)+\"/v\"\n",
    "\n",
    "\n",
    "LEMS = LEMSSimulation(sim_id, length , step , target = \"network_of_%s\"%cell_id)\n",
    "LEMS.include_neuroml2_file('./pynmlNetworks/nml_'+cell_id+'.net.nml')\n",
    "LEMS.set_report_file('SimStat.txt')                                   # not necessary but out of interest to see EDEN vs NEURON \n",
    "\n",
    "disp_id = 'display_0'\n",
    "LEMS.create_display(disp_id, 'IDK FIRST DISPLAY TEST', '-100', '70' )\n",
    "LEMS.add_line_to_display(disp_id, recorded_segment, recorded_variable)\n",
    "\n",
    "traces = 'voltage traces'\n",
    "LEMS.create_output_file(traces,\"%s.v.dat\"%sim_id)\n",
    "LEMS.add_column_to_output_file(traces, recorded_segment, recorded_variable)\n",
    "\n",
    "filename = 'LEMS_'+str(sim_id)+'_'+str(cell_id)+'.xml'\n",
    "LEMS.save_to_file(file_name = filename )\n",
    "shutil.move('C:\\\\Users\\\\roche\\\\Thesis_code_nml\\\\'+str(filename), 'C:\\\\Users\\\\roche\\\\Thesis_code_nml\\\\LEMSFILES')\n"
   ]
  },
  {
   "cell_type": "markdown",
   "metadata": {},
   "source": [
    "## Running LEMS file"
   ]
  },
  {
   "cell_type": "code",
   "execution_count": 6,
   "metadata": {},
   "outputs": [
    {
     "name": "stdout",
     "output_type": "stream",
     "text": [
      "C:\\Users\\roche\\Thesis_code_nml/LEMSFILES\n",
      "LEMS_Test_C51A.xml\n",
      "You are running a simulation of C:\\Users\\roche\\Thesis_code_nml/LEMSFILES/LEMS_Test_C51A.xml and saving the results to C:\\Users\\roche\\Thesis_code_nml/LEMSFILES\n",
      "\n"
     ]
    }
   ],
   "source": [
    "LEMS_file = path+f'/LEMSFILES/{filename}'\n",
    "#out_dir = path+'\\Simulation result'\n",
    "\n",
    "out_dir,rel_filename = os.path.split(LEMS_file)\n",
    "print(out_dir)\n",
    "print(rel_filename)\n",
    "\n",
    "\n",
    "\n",
    "print(f'You are running a simulation of {LEMS_file} and saving the results to {out_dir}\\n')\n",
    "\n"
   ]
  },
  {
   "cell_type": "code",
   "execution_count": 7,
   "metadata": {},
   "outputs": [
    {
     "name": "stdout",
     "output_type": "stream",
     "text": [
      "pyNeuroML >>> *** Problem running command: \n",
      "pyNeuroML >>>        Command 'java -Xmx1000M  -jar  \"C:\\Users\\roche\\anaconda3\\lib\\site-packages\\pyneuroml\\lib\\jNeuroML-0.10.0-jar-with-dependencies.jar\"  \"C:\\Users\\roche\\Thesis_code_nml/LEMSFILES/LEMS_Test_C51A.xml\"  -neuron -run -compile -nogui' returned non-zero exit status 1.\n",
      "pyNeuroML >>>  jNeuroML >>   jNeuroML v0.10.0\r\n",
      "pyNeuroML >>>  jNeuroML >>  (INFO) Reading from: C:\\Users\\roche\\Thesis_code_nml\\LEMSFILES\\LEMS_Test_C51A.xml\r\n",
      "pyNeuroML >>>  jNeuroML >>  (WARNING) Unused attribute in Component(id=null type=CaL_tau): XMLAttribute(tau, 3ms)  at: org.lemsml.jlems.core.type.Component.resolve(Component.java:540)\r\n",
      "pyNeuroML >>>  jNeuroML >>  (WARNING) Unused attribute in Component(id=null type=CaL_tau): XMLAttribute(midpoint, -40mV)  at: \r\n",
      "pyNeuroML >>>  jNeuroML >>  (WARNING) Unused attribute in Component(id=null type=CaL_tau): XMLAttribute(scale, -33mV)  at: \r\n",
      "pyNeuroML >>>  jNeuroML >>  (INFO) Creating NeuronWriter to output files to C:\\Users\\roche\\Thesis_code_nml\\LEMSFILES\r\n",
      "pyNeuroML >>>  jNeuroML >>  (INFO) Adding simulation Component(id=Test type=Simulation) of network/component: network_of_C51A (Type: networkWithTemperature:  temperature=310.15 (SI temperature))\r\n",
      "pyNeuroML >>>  jNeuroML >>  (INFO) Adding population: population_of_C51A\r\n",
      "pyNeuroML >>>  jNeuroML >>  (INFO) -- Writing to hoc: C:\\Users\\roche\\Thesis_code_nml\\LEMSFILES\\C51A.hoc\r\n",
      "pyNeuroML >>>  jNeuroML >>  (INFO) -- Writing to mod: C:\\Users\\roche\\Thesis_code_nml\\LEMSFILES\\na_s.mod\r\n",
      "pyNeuroML >>>  jNeuroML >>  (INFO) File C:\\Users\\roche\\Thesis_code_nml\\LEMSFILES\\na_s.mod exists and is identical\r\n",
      "pyNeuroML >>>  jNeuroML >>  (INFO) -- Writing to mod: C:\\Users\\roche\\Thesis_code_nml\\LEMSFILES\\kdr.mod\r\n",
      "pyNeuroML >>>  jNeuroML >>  (INFO) File C:\\Users\\roche\\Thesis_code_nml\\LEMSFILES\\kdr.mod exists and is identical\r\n",
      "pyNeuroML >>>  jNeuroML >>  (INFO) -- Writing to mod: C:\\Users\\roche\\Thesis_code_nml\\LEMSFILES\\k.mod\r\n",
      "pyNeuroML >>>  jNeuroML >>  (INFO) File C:\\Users\\roche\\Thesis_code_nml\\LEMSFILES\\k.mod exists and is identical\r\n",
      "pyNeuroML >>>  jNeuroML >>  (INFO) -- Writing to mod: C:\\Users\\roche\\Thesis_code_nml\\LEMSFILES\\cal.mod\r\n",
      "pyNeuroML >>>  jNeuroML >>  (INFO) File C:\\Users\\roche\\Thesis_code_nml\\LEMSFILES\\cal.mod exists and is identical\r\n",
      "pyNeuroML >>>  jNeuroML >>  (INFO) -- Writing to mod: C:\\Users\\roche\\Thesis_code_nml\\LEMSFILES\\cah.mod\r\n",
      "pyNeuroML >>>  jNeuroML >>  (INFO) File C:\\Users\\roche\\Thesis_code_nml\\LEMSFILES\\cah.mod exists and is identical\r\n",
      "pyNeuroML >>>  jNeuroML >>  (INFO) -- Writing to mod: C:\\Users\\roche\\Thesis_code_nml\\LEMSFILES\\kca.mod\r\n",
      "pyNeuroML >>>  jNeuroML >>  (INFO) File C:\\Users\\roche\\Thesis_code_nml\\LEMSFILES\\kca.mod exists and is identical\r\n",
      "pyNeuroML >>>  jNeuroML >>  (INFO) -- Writing to mod: C:\\Users\\roche\\Thesis_code_nml\\LEMSFILES\\h.mod\r\n",
      "pyNeuroML >>>  jNeuroML >>  (INFO) File C:\\Users\\roche\\Thesis_code_nml\\LEMSFILES\\h.mod exists and is identical\r\n",
      "pyNeuroML >>>  jNeuroML >>  (INFO) -- Writing to mod: C:\\Users\\roche\\Thesis_code_nml\\LEMSFILES\\cacc.mod\r\n",
      "pyNeuroML >>>  jNeuroML >>  (INFO) File C:\\Users\\roche\\Thesis_code_nml\\LEMSFILES\\cacc.mod exists and is identical\r\n",
      "pyNeuroML >>>  jNeuroML >>  (INFO) -- Writing to mod: C:\\Users\\roche\\Thesis_code_nml\\LEMSFILES\\na_a.mod\r\n",
      "pyNeuroML >>>  jNeuroML >>  (INFO) File C:\\Users\\roche\\Thesis_code_nml\\LEMSFILES\\na_a.mod exists and is identical\r\n",
      "pyNeuroML >>>  jNeuroML >>  (INFO) -- Writing to mod: C:\\Users\\roche\\Thesis_code_nml\\LEMSFILES\\leak.mod\r\n",
      "pyNeuroML >>>  jNeuroML >>  (INFO) File C:\\Users\\roche\\Thesis_code_nml\\LEMSFILES\\leak.mod exists and is identical\r\n",
      "pyNeuroML >>>  jNeuroML >>  (INFO) -- Writing to mod: C:\\Users\\roche\\Thesis_code_nml\\LEMSFILES\\ca_conc.mod\r\n",
      "pyNeuroML >>>  jNeuroML >>  (INFO) File C:\\Users\\roche\\Thesis_code_nml\\LEMSFILES\\ca_conc.mod exists and is identical\r\n",
      "pyNeuroML >>>  jNeuroML >>  (INFO) Adding projections/connections...\r\n",
      "pyNeuroML >>>  jNeuroML >>  (INFO) -- Writing to mod: C:\\Users\\roche\\Thesis_code_nml\\LEMSFILES\\iclamp0.mod\r\n",
      "pyNeuroML >>>  jNeuroML >>  (INFO) File C:\\Users\\roche\\Thesis_code_nml\\LEMSFILES\\iclamp0.mod exists and is identical\r\n",
      "pyNeuroML >>>  jNeuroML >>  (INFO) Trying to compile mods in: C:\\Users\\roche\\Thesis_code_nml\\LEMSFILES\r\n",
      "pyNeuroML >>>  jNeuroML >>  (INFO) Going to compile the mod files in: C:\\Users\\roche\\Thesis_code_nml\\LEMSFILES, forcing recompile: false\r\n",
      "pyNeuroML >>>  jNeuroML >>  (INFO) Parent dir: C:\\Users\\roche\\Thesis_code_nml\\LEMSFILES\r\n",
      "pyNeuroML >>>  jNeuroML >>  (INFO) Assuming Windows environment...\r\n",
      "pyNeuroML >>>  jNeuroML >>  (INFO) Name of file to be created: C:\\Users\\roche\\Thesis_code_nml\\LEMSFILES\\nrnmech.dll\r\n",
      "pyNeuroML >>>  jNeuroML >>  (INFO) commandToExecute: C:\\nrn73\\bin\\sh.exe \"/cygdrive/c/Users/roche/AppData/Local/Temp/jNeuroML14907933786551341223_mknrndll.sh\" C:\\nrn73  -q\r\n",
      "pyNeuroML >>>  jNeuroML >>  (INFO) Going to check if mods in C:\\Users\\roche\\Thesis_code_nml\\LEMSFILES are newer than null\r\n",
      "pyNeuroML >>>  jNeuroML >>  (INFO) Trying to delete any previous: C:\\Users\\roche\\Thesis_code_nml\\LEMSFILES\\nrnmech.dll\r\n",
      "pyNeuroML >>>  jNeuroML >>  (INFO) directoryToExecuteIn: C:\\Users\\roche\\Thesis_code_nml\\LEMSFILES\r\n",
      "pyNeuroML >>>  jNeuroML >>  (INFO) Have successfully executed command: C:\\nrn73\\bin\\sh.exe \"/cygdrive/c/Users/roche/AppData/Local/Temp/jNeuroML14907933786551341223_mknrndll.sh\" C:\\nrn73  -q\r\n",
      "pyNeuroML >>>  jNeuroML >>  (INFO) NMODL Compile >> > gcc -DDLL_EXPORT -DPIC -I/src/scopmath -I/src/nrnoc -I/src/oc -I/lib -I/gccinc -I/gcc3inc -L/gcclib -c mod_func.c\r\n",
      "pyNeuroML >>>  jNeuroML >>  (INFO) NMODL Compile >> > nocmodl ca_conc\r\n",
      "pyNeuroML >>>  jNeuroML >>  (INFO) NMODL Error   >> > Translating ca_conc.mod into ca_conc.c\r\n",
      "pyNeuroML >>>  jNeuroML >>  (INFO) NMODL Error   >> > Notice: Assignment to the GLOBAL variable, \"initialExtConcentration\", is not thread safe\r\n",
      "pyNeuroML >>>  jNeuroML >>  (INFO) NMODL Error   >> > Notice: Assignment to the GLOBAL variable, \"initialConcentration\", is not thread safe\r\n",
      "pyNeuroML >>>  jNeuroML >>  (INFO) NMODL Compile >> > gcc -DDLL_EXPORT -DPIC -I/src/scopmath -I/src/nrnoc -I/src/oc -I/lib -I/gccinc -I/gcc3inc -L/gcclib -c ca_conc.c\r\n",
      "pyNeuroML >>>  jNeuroML >>  (INFO) NMODL Compile >> > nocmodl cacc\r\n",
      "pyNeuroML >>>  jNeuroML >>  (INFO) NMODL Error   >> > Translating cacc.mod into cacc.c\r\n",
      "pyNeuroML >>>  jNeuroML >>  (INFO) NMODL Error   >> > Thread Safe\r\n",
      "pyNeuroML >>>  jNeuroML >>  (INFO) NMODL Compile >> > gcc -DDLL_EXPORT -DPIC -I/src/scopmath -I/src/nrnoc -I/src/oc -I/lib -I/gccinc -I/gcc3inc -L/gcclib -c cacc.c\r\n",
      "pyNeuroML >>>  jNeuroML >>  (INFO) NMODL Compile >> > nocmodl cah\r\n",
      "pyNeuroML >>>  jNeuroML >>  (INFO) NMODL Error   >> > Translating cah.mod into cah.c\r\n",
      "pyNeuroML >>>  jNeuroML >>  (INFO) NMODL Error   >> > Thread Safe\r\n",
      "pyNeuroML >>>  jNeuroML >>  (INFO) NMODL Compile >> > gcc -DDLL_EXPORT -DPIC -I/src/scopmath -I/src/nrnoc -I/src/oc -I/lib -I/gccinc -I/gcc3inc -L/gcclib -c cah.c\r\n",
      "pyNeuroML >>>  jNeuroML >>  (INFO) NMODL Compile >> > nocmodl cal\r\n",
      "pyNeuroML >>>  jNeuroML >>  (INFO) NMODL Error   >> > Translating cal.mod into cal.c\r\n",
      "pyNeuroML >>>  jNeuroML >>  (INFO) NMODL Error   >> > Thread Safe\r\n",
      "pyNeuroML >>>  jNeuroML >>  (INFO) NMODL Compile >> > gcc -DDLL_EXPORT -DPIC -I/src/scopmath -I/src/nrnoc -I/src/oc -I/lib -I/gccinc -I/gcc3inc -L/gcclib -c cal.c\r\n",
      "pyNeuroML >>>  jNeuroML >>  (INFO) NMODL Compile >> > nocmodl h\r\n",
      "pyNeuroML >>>  jNeuroML >>  (INFO) NMODL Error   >> > Translating h.mod into h.c\r\n",
      "pyNeuroML >>>  jNeuroML >>  (INFO) NMODL Error   >> > Thread Safe\r\n",
      "pyNeuroML >>>  jNeuroML >>  (INFO) NMODL Compile >> > gcc -DDLL_EXPORT -DPIC -I/src/scopmath -I/src/nrnoc -I/src/oc -I/lib -I/gccinc -I/gcc3inc -L/gcclib -c h.c\r\n",
      "pyNeuroML >>>  jNeuroML >>  (INFO) NMODL Compile >> > nocmodl iclamp0\r\n",
      "pyNeuroML >>>  jNeuroML >>  (INFO) NMODL Error   >> > Translating iclamp0.mod into iclamp0.c\r\n",
      "pyNeuroML >>>  jNeuroML >>  (INFO) NMODL Error   >> > Thread Safe\r\n",
      "pyNeuroML >>>  jNeuroML >>  (INFO) NMODL Compile >> > gcc -DDLL_EXPORT -DPIC -I/src/scopmath -I/src/nrnoc -I/src/oc -I/lib -I/gccinc -I/gcc3inc -L/gcclib -c iclamp0.c\r\n",
      "pyNeuroML >>>  jNeuroML >>  (INFO) NMODL Compile >> > nocmodl k\r\n",
      "pyNeuroML >>>  jNeuroML >>  (INFO) NMODL Error   >> > Translating k.mod into k.c\r\n",
      "pyNeuroML >>>  jNeuroML >>  (INFO) NMODL Error   >> > Thread Safe\r\n",
      "pyNeuroML >>>  jNeuroML >>  (INFO) NMODL Compile >> > gcc -DDLL_EXPORT -DPIC -I/src/scopmath -I/src/nrnoc -I/src/oc -I/lib -I/gccinc -I/gcc3inc -L/gcclib -c k.c\r\n",
      "pyNeuroML >>>  jNeuroML >>  (INFO) NMODL Compile >> > nocmodl kca\r\n",
      "pyNeuroML >>>  jNeuroML >>  (INFO) NMODL Error   >> > Translating kca.mod into kca.c\r\n",
      "pyNeuroML >>>  jNeuroML >>  (INFO) NMODL Error   >> > Thread Safe\r\n",
      "pyNeuroML >>>  jNeuroML >>  (INFO) NMODL Compile >> > gcc -DDLL_EXPORT -DPIC -I/src/scopmath -I/src/nrnoc -I/src/oc -I/lib -I/gccinc -I/gcc3inc -L/gcclib -c kca.c\r\n",
      "pyNeuroML >>>  jNeuroML >>  (INFO) NMODL Compile >> > nocmodl kdr\r\n",
      "pyNeuroML >>>  jNeuroML >>  (INFO) NMODL Error   >> > Translating kdr.mod into kdr.c\r\n",
      "pyNeuroML >>>  jNeuroML >>  (INFO) NMODL Error   >> > Thread Safe\r\n",
      "pyNeuroML >>>  jNeuroML >>  (INFO) NMODL Compile >> > gcc -DDLL_EXPORT -DPIC -I/src/scopmath -I/src/nrnoc -I/src/oc -I/lib -I/gccinc -I/gcc3inc -L/gcclib -c kdr.c\r\n",
      "pyNeuroML >>>  jNeuroML >>  (INFO) NMODL Compile >> > nocmodl leak\r\n",
      "pyNeuroML >>>  jNeuroML >>  (INFO) NMODL Error   >> > Translating leak.mod into leak.c\r\n",
      "pyNeuroML >>>  jNeuroML >>  (INFO) NMODL Error   >> > Thread Safe\r\n",
      "pyNeuroML >>>  jNeuroML >>  (INFO) NMODL Compile >> > gcc -DDLL_EXPORT -DPIC -I/src/scopmath -I/src/nrnoc -I/src/oc -I/lib -I/gccinc -I/gcc3inc -L/gcclib -c leak.c\r\n",
      "pyNeuroML >>>  jNeuroML >>  (INFO) NMODL Compile >> > nocmodl na_a\r\n",
      "pyNeuroML >>>  jNeuroML >>  (INFO) NMODL Error   >> > Translating na_a.mod into na_a.c\r\n",
      "pyNeuroML >>>  jNeuroML >>  (INFO) NMODL Error   >> > Thread Safe\r\n",
      "pyNeuroML >>>  jNeuroML >>  (INFO) NMODL Compile >> > gcc -DDLL_EXPORT -DPIC -I/src/scopmath -I/src/nrnoc -I/src/oc -I/lib -I/gccinc -I/gcc3inc -L/gcclib -c na_a.c\r\n",
      "pyNeuroML >>>  jNeuroML >>  (INFO) NMODL Compile >> > nocmodl na_s\r\n",
      "pyNeuroML >>>  jNeuroML >>  (INFO) NMODL Error   >> > Translating na_s.mod into na_s.c\r\n",
      "pyNeuroML >>>  jNeuroML >>  (INFO) NMODL Error   >> > Thread Safe\r\n",
      "pyNeuroML >>>  jNeuroML >>  (INFO) NMODL Compile >> > gcc -DDLL_EXPORT -DPIC -I/src/scopmath -I/src/nrnoc -I/src/oc -I/lib -I/gccinc -I/gcc3inc -L/gcclib -c na_s.c\r\n",
      "pyNeuroML >>>  jNeuroML >>  (INFO) NMODL Compile >> > gcc -I/lib -I/gccinc -I/gcc3inc -L/gcclib -shared -o nrnmech.dll mod_func.o ca_conc.o cacc.o cah.o cal.o h.o iclamp0.o k.o kca.o kdr.o leak.o na_a.o na_s.o \\\r\n",
      "pyNeuroML >>>  jNeuroML >>  (INFO) NMODL Compile >> >   -L/bin -lnrniv -lpthread\r\n",
      "pyNeuroML >>>  jNeuroML >>  (INFO) NMODL Compile >> > rebase -b 0x64000000 -v nrnmech.dll\r\n",
      "pyNeuroML >>>  jNeuroML >>  (INFO) NMODL Compile >> > /cygdrive/c/Users/roche/Thesis_code_nml/LEMSFILES/nrnmech.dll: new base = 64000000, new size = 30000\r\n",
      "pyNeuroML >>>  jNeuroML >>  (INFO) NMODL Compile >> > \r\n",
      "pyNeuroML >>>  jNeuroML >>  (INFO) NMODL Compile >> > nrnmech.dll was built successfully.\r\n",
      "pyNeuroML >>>  jNeuroML >>  (INFO) Successful compilation\r\n",
      "pyNeuroML >>>  jNeuroML >>  (INFO) Success in compiling mods: true\r\n",
      "pyNeuroML >>>  jNeuroML >>  (INFO) Have successfully executed command: python C:\\Users\\roche\\Thesis_code_nml\\LEMSFILES\\LEMS_Test_C51A_nrn.py\r\n",
      "pyNeuroML >>>  jNeuroML >>  (INFO) NRN Error  >>> Traceback (most recent call last):\r\n",
      "pyNeuroML >>>  jNeuroML >>  (INFO) NRN Error  >>>   File \"C:\\Users\\roche\\Thesis_code_nml\\LEMSFILES\\LEMS_Test_C51A_nrn.py\", line 34, in <module>\r\n",
      "pyNeuroML >>>  jNeuroML >>  (INFO) NRN Error  >>>     import neuron\r\n",
      "pyNeuroML >>>  jNeuroML >>  (INFO) NRN Error  >>> ModuleNotFoundError: No module named 'neuron'\r\n",
      "pyNeuroML >>>  jNeuroML >>  (INFO) Exit value for running NEURON: 1\r\n",
      "pyNeuroML >>>  jNeuroML >>  \n",
      "pyNeuroML >>> Error: execute_command_in_dir returned with output: None\n"
     ]
    },
    {
     "ename": "SystemExit",
     "evalue": "-1",
     "output_type": "error",
     "traceback": [
      "An exception has occurred, use %tb to see the full traceback.\n",
      "\u001b[1;31mSystemExit\u001b[0m\u001b[1;31m:\u001b[0m -1\n"
     ]
    },
    {
     "name": "stderr",
     "output_type": "stream",
     "text": [
      "C:\\Users\\roche\\anaconda3\\lib\\site-packages\\IPython\\core\\interactiveshell.py:3339: UserWarning: To exit: use 'exit', 'quit', or Ctrl-D.\n",
      "  warn(\"To exit: use 'exit', 'quit', or Ctrl-D.\", stacklevel=1)\n"
     ]
    }
   ],
   "source": [
    "results = pynml.run_lems_with_jneuroml_neuron(\n",
    "        LEMS_file, verbose=False, nogui=True, load_saved_data=True, exec_in_dir= out_dir,\n",
    "        max_memory='1000M')\n"
   ]
  },
  {
   "cell_type": "code",
   "execution_count": 8,
   "metadata": {},
   "outputs": [
    {
     "ename": "NameError",
     "evalue": "name 'results' is not defined",
     "output_type": "error",
     "traceback": [
      "\u001b[1;31m---------------------------------------------------------------------------\u001b[0m",
      "\u001b[1;31mNameError\u001b[0m                                 Traceback (most recent call last)",
      "\u001b[1;32m<ipython-input-8-f666d56291b5>\u001b[0m in \u001b[0;36m<module>\u001b[1;34m\u001b[0m\n\u001b[1;32m----> 1\u001b[1;33m \u001b[0mprint\u001b[0m\u001b[1;33m(\u001b[0m \u001b[0mresults\u001b[0m\u001b[1;33m.\u001b[0m\u001b[0mkeys\u001b[0m\u001b[1;33m(\u001b[0m\u001b[1;33m)\u001b[0m \u001b[1;33m)\u001b[0m\u001b[1;33m\u001b[0m\u001b[1;33m\u001b[0m\u001b[0m\n\u001b[0m\u001b[0;32m      2\u001b[0m \u001b[1;33m\u001b[0m\u001b[0m\n\u001b[0;32m      3\u001b[0m \u001b[0mprint\u001b[0m\u001b[1;33m(\u001b[0m \u001b[1;34m'Recorded points: '\u001b[0m\u001b[1;33m,\u001b[0m \u001b[0mlen\u001b[0m\u001b[1;33m(\u001b[0m\u001b[0mresults\u001b[0m\u001b[1;33m)\u001b[0m \u001b[1;33m)\u001b[0m\u001b[1;33m\u001b[0m\u001b[1;33m\u001b[0m\u001b[0m\n",
      "\u001b[1;31mNameError\u001b[0m: name 'results' is not defined"
     ]
    }
   ],
   "source": [
    "print( results.keys() )\n",
    "\n",
    "print( 'Recorded points: ', len(results) )"
   ]
  },
  {
   "cell_type": "code",
   "execution_count": null,
   "metadata": {},
   "outputs": [],
   "source": []
  }
 ],
 "metadata": {
  "kernelspec": {
   "display_name": "Python 3",
   "language": "python",
   "name": "python3"
  },
  "language_info": {
   "codemirror_mode": {
    "name": "ipython",
    "version": 3
   },
   "file_extension": ".py",
   "mimetype": "text/x-python",
   "name": "python",
   "nbconvert_exporter": "python",
   "pygments_lexer": "ipython3",
   "version": "3.7.6"
  }
 },
 "nbformat": 4,
 "nbformat_minor": 4
}
